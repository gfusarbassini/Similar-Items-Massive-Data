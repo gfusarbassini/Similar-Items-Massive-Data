{
  "nbformat": 4,
  "nbformat_minor": 0,
  "metadata": {
    "colab": {
      "provenance": [],
      "collapsed_sections": [
        "cqbbPImTWEEo",
        "seHFC5FpWWnI",
        "Szd3dHQTWdtV",
        "i3_Qru4cWo7l",
        "MzcWxogIW0MG",
        "kRygu0oznqBY",
        "zNNAvLOFMr1f",
        "FOuNoz9mZRyT"
      ]
    },
    "kernelspec": {
      "name": "python3",
      "display_name": "Python 3"
    },
    "language_info": {
      "name": "python"
    }
  },
  "cells": [
    {
      "cell_type": "markdown",
      "source": [
        "# Install libraries and download the dataset"
      ],
      "metadata": {
        "id": "cqbbPImTWEEo"
      }
    },
    {
      "cell_type": "code",
      "execution_count": 1,
      "metadata": {
        "colab": {
          "base_uri": "https://localhost:8080/"
        },
        "id": "9hZB-UNCdLLy",
        "outputId": "5af24ab4-9a85-410a-8429-92914cae5664"
      },
      "outputs": [
        {
          "output_type": "stream",
          "name": "stdout",
          "text": [
            "Looking in indexes: https://pypi.org/simple, https://us-python.pkg.dev/colab-wheels/public/simple/\n",
            "Requirement already satisfied: kaggle in /usr/local/lib/python3.8/dist-packages (1.5.12)\n",
            "Requirement already satisfied: certifi in /usr/local/lib/python3.8/dist-packages (from kaggle) (2022.9.24)\n",
            "Requirement already satisfied: python-dateutil in /usr/local/lib/python3.8/dist-packages (from kaggle) (2.8.2)\n",
            "Requirement already satisfied: requests in /usr/local/lib/python3.8/dist-packages (from kaggle) (2.23.0)\n",
            "Requirement already satisfied: python-slugify in /usr/local/lib/python3.8/dist-packages (from kaggle) (7.0.0)\n",
            "Requirement already satisfied: urllib3 in /usr/local/lib/python3.8/dist-packages (from kaggle) (1.24.3)\n",
            "Requirement already satisfied: six>=1.10 in /usr/local/lib/python3.8/dist-packages (from kaggle) (1.15.0)\n",
            "Requirement already satisfied: tqdm in /usr/local/lib/python3.8/dist-packages (from kaggle) (4.64.1)\n",
            "Requirement already satisfied: text-unidecode>=1.3 in /usr/local/lib/python3.8/dist-packages (from python-slugify->kaggle) (1.3)\n",
            "Requirement already satisfied: idna<3,>=2.5 in /usr/local/lib/python3.8/dist-packages (from requests->kaggle) (2.10)\n",
            "Requirement already satisfied: chardet<4,>=3.0.2 in /usr/local/lib/python3.8/dist-packages (from requests->kaggle) (3.0.4)\n",
            "Looking in indexes: https://pypi.org/simple, https://us-python.pkg.dev/colab-wheels/public/simple/\n",
            "Collecting pyspark\n",
            "  Downloading pyspark-3.3.1.tar.gz (281.4 MB)\n",
            "\u001b[K     |████████████████████████████████| 281.4 MB 37 kB/s \n",
            "\u001b[?25hCollecting py4j==0.10.9.5\n",
            "  Downloading py4j-0.10.9.5-py2.py3-none-any.whl (199 kB)\n",
            "\u001b[K     |████████████████████████████████| 199 kB 52.8 MB/s \n",
            "\u001b[?25hBuilding wheels for collected packages: pyspark\n",
            "  Building wheel for pyspark (setup.py) ... \u001b[?25l\u001b[?25hdone\n",
            "  Created wheel for pyspark: filename=pyspark-3.3.1-py2.py3-none-any.whl size=281845512 sha256=613681a7e54357eb4e817938b4839b48ad8a106b19034303d0d661c169bb9a6e\n",
            "  Stored in directory: /root/.cache/pip/wheels/43/dc/11/ec201cd671da62fa9c5cc77078235e40722170ceba231d7598\n",
            "Successfully built pyspark\n",
            "Installing collected packages: py4j, pyspark\n",
            "Successfully installed py4j-0.10.9.5 pyspark-3.3.1\n"
          ]
        }
      ],
      "source": [
        "!pip install kaggle\n",
        "!pip install pyspark"
      ]
    },
    {
      "cell_type": "code",
      "source": [
        "import os\n",
        "import pandas as pd\n",
        "import numpy as np\n",
        "import matplotlib.pyplot as plt\n",
        "from nltk import ngrams\n",
        "import random\n",
        "import re\n",
        "import itertools\n",
        "from scipy.special import binom"
      ],
      "metadata": {
        "id": "mLgk1IwNeYqR"
      },
      "execution_count": 2,
      "outputs": []
    },
    {
      "cell_type": "code",
      "source": [
        "#Create spark session\n",
        "from pyspark.sql import SparkSession\n",
        "spark = SparkSession.builder.master(\"local[*]\").getOrCreate()\n",
        "sc = spark.sparkContext"
      ],
      "metadata": {
        "id": "faCGs3RDY6ej"
      },
      "execution_count": 3,
      "outputs": []
    },
    {
      "cell_type": "code",
      "source": [
        "#Connect to Kaggle and download the dataset\n",
        "os.environ[\"KAGGLE_USERNAME\"] = \"itsbi00\"\n",
        "os.environ[\"KAGGLE_KEY\"] = \"12a03bebadfce60b1d9484e4967e08ff\"\n",
        "\n",
        "!kaggle datasets download bwandowando/ukraine-russian-crisis-twitter-dataset-1-2-m-rows -f UkraineWar/UkraineWar/0404_UkraineCombinedTweetsDeduped.csv.gzip"
      ],
      "metadata": {
        "colab": {
          "base_uri": "https://localhost:8080/"
        },
        "id": "dv069Tcqd1YS",
        "outputId": "36f3a2ab-c155-430a-9b8d-00ddcbda87a5"
      },
      "execution_count": 4,
      "outputs": [
        {
          "output_type": "stream",
          "name": "stdout",
          "text": [
            "Downloading 0404_UkraineCombinedTweetsDeduped.csv.gzip.zip to /content\n",
            " 90% 85.0M/94.2M [00:00<00:00, 148MB/s]\n",
            "100% 94.2M/94.2M [00:00<00:00, 125MB/s]\n"
          ]
        }
      ]
    },
    {
      "cell_type": "code",
      "source": [
        "!unzip \"/content/0404_UkraineCombinedTweetsDeduped.csv.gzip.zip\""
      ],
      "metadata": {
        "colab": {
          "base_uri": "https://localhost:8080/"
        },
        "id": "R-0kX4pBfUOg",
        "outputId": "2e8f8ef1-2d95-45f4-d558-e504c8fb62da"
      },
      "execution_count": 5,
      "outputs": [
        {
          "output_type": "stream",
          "name": "stdout",
          "text": [
            "Archive:  /content/0404_UkraineCombinedTweetsDeduped.csv.gzip.zip\n",
            "  inflating: 0404_UkraineCombinedTweetsDeduped.csv.gzip  \n"
          ]
        }
      ]
    },
    {
      "cell_type": "markdown",
      "source": [
        "# Preprocessing"
      ],
      "metadata": {
        "id": "seHFC5FpWWnI"
      }
    },
    {
      "cell_type": "code",
      "source": [
        "df = pd.read_csv('/content/0404_UkraineCombinedTweetsDeduped.csv.gzip', compression='gzip')\n",
        "df.head()"
      ],
      "metadata": {
        "id": "7-Uhk92XfzQk",
        "colab": {
          "base_uri": "https://localhost:8080/",
          "height": 580
        },
        "outputId": "990272ae-58da-4c5d-a108-03bb6a703bbf"
      },
      "execution_count": 6,
      "outputs": [
        {
          "output_type": "stream",
          "name": "stderr",
          "text": [
            "/usr/local/lib/python3.8/dist-packages/IPython/core/interactiveshell.py:3326: DtypeWarning: Columns (15) have mixed types.Specify dtype option on import or set low_memory=False.\n",
            "  exec(code_obj, self.user_global_ns, self.user_ns)\n"
          ]
        },
        {
          "output_type": "execute_result",
          "data": {
            "text/plain": [
              "   Unnamed: 0               userid      username  \\\n",
              "0           0           1135480334     LeonFirer   \n",
              "1           1             50383631   sofia779933   \n",
              "2           2            152930351    AnonGhostt   \n",
              "3           3  1250755269644222464  15minutosUSA   \n",
              "4           4           2288308578  EuromaidanPR   \n",
              "\n",
              "                                            acctdesc         location  \\\n",
              "0                                                NaN              NaN   \n",
              "1                ЛЮБЛЮ ЖИЗНЬ, ЮМОР И ВСЕ ПОЗИТИВНОЕ!   Москва, Россия   \n",
              "2                                  Secret for Public               UK   \n",
              "3  Descubre lo que pasa en tu país y en el mundo ...  Miami, Florida    \n",
              "4  #1 Independent Citizen Media about #Ukraine | ...          Ukraine   \n",
              "\n",
              "   following  followers  totaltweets               usercreatedts  \\\n",
              "0         90          6           31  2013-01-30 23:27:36.000000   \n",
              "1       5000       1220       127329  2009-06-24 18:09:39.000000   \n",
              "2          7       5033       376522  2010-06-07 07:02:46.000000   \n",
              "3        523       3876        33616  2020-04-16 11:58:25.000000   \n",
              "4       3592      87638        76529  2014-01-12 15:28:39.000000   \n",
              "\n",
              "               tweetid              tweetcreatedts  retweetcount  \\\n",
              "0  1510769113542832128  2022-04-04 00:00:00.000000          2846   \n",
              "1  1510769114389880844  2022-04-04 00:00:00.000000           342   \n",
              "2  1510769114541084674  2022-04-04 00:00:00.000000           358   \n",
              "3  1510769114582724608  2022-04-04 00:00:00.000000             0   \n",
              "4  1510769115627204612  2022-04-04 00:00:00.000000             7   \n",
              "\n",
              "                                                text  \\\n",
              "0  As the whole world watches in horror the image...   \n",
              "1  Exclusive footage of #Bucha after the liberati...   \n",
              "2  📢 The #ICC Office of the Prosecutor is investi...   \n",
              "3  #Mundo: Conmoción mundial por la masacre de #B...   \n",
              "4  As the whole world watches in horror the image...   \n",
              "\n",
              "                                            hashtags language coordinates  \\\n",
              "0  [{'text': 'Kyiv', 'indices': [73, 78]}, {'text...       en         NaN   \n",
              "1           [{'text': 'Bucha', 'indices': [42, 48]}]       en         NaN   \n",
              "2  [{'text': 'ICC', 'indices': [25, 29]}, {'text'...       en         NaN   \n",
              "3  [{'text': 'Mundo', 'indices': [0, 6]}, {'text'...       es         NaN   \n",
              "4  [{'text': 'Kyiv', 'indices': [53, 58]}, {'text...       en         NaN   \n",
              "\n",
              "   favorite_count                 extractedts  \n",
              "0               0  2022-04-04 00:07:06.155602  \n",
              "1               0  2022-04-04 00:07:06.121124  \n",
              "2               0  2022-04-04 00:07:06.071706  \n",
              "3               0  2022-04-04 00:07:06.055175  \n",
              "4              16  2022-04-04 00:07:06.033660  "
            ],
            "text/html": [
              "\n",
              "  <div id=\"df-4caa3275-427b-4fd3-9d28-15b78f83ffe6\">\n",
              "    <div class=\"colab-df-container\">\n",
              "      <div>\n",
              "<style scoped>\n",
              "    .dataframe tbody tr th:only-of-type {\n",
              "        vertical-align: middle;\n",
              "    }\n",
              "\n",
              "    .dataframe tbody tr th {\n",
              "        vertical-align: top;\n",
              "    }\n",
              "\n",
              "    .dataframe thead th {\n",
              "        text-align: right;\n",
              "    }\n",
              "</style>\n",
              "<table border=\"1\" class=\"dataframe\">\n",
              "  <thead>\n",
              "    <tr style=\"text-align: right;\">\n",
              "      <th></th>\n",
              "      <th>Unnamed: 0</th>\n",
              "      <th>userid</th>\n",
              "      <th>username</th>\n",
              "      <th>acctdesc</th>\n",
              "      <th>location</th>\n",
              "      <th>following</th>\n",
              "      <th>followers</th>\n",
              "      <th>totaltweets</th>\n",
              "      <th>usercreatedts</th>\n",
              "      <th>tweetid</th>\n",
              "      <th>tweetcreatedts</th>\n",
              "      <th>retweetcount</th>\n",
              "      <th>text</th>\n",
              "      <th>hashtags</th>\n",
              "      <th>language</th>\n",
              "      <th>coordinates</th>\n",
              "      <th>favorite_count</th>\n",
              "      <th>extractedts</th>\n",
              "    </tr>\n",
              "  </thead>\n",
              "  <tbody>\n",
              "    <tr>\n",
              "      <th>0</th>\n",
              "      <td>0</td>\n",
              "      <td>1135480334</td>\n",
              "      <td>LeonFirer</td>\n",
              "      <td>NaN</td>\n",
              "      <td>NaN</td>\n",
              "      <td>90</td>\n",
              "      <td>6</td>\n",
              "      <td>31</td>\n",
              "      <td>2013-01-30 23:27:36.000000</td>\n",
              "      <td>1510769113542832128</td>\n",
              "      <td>2022-04-04 00:00:00.000000</td>\n",
              "      <td>2846</td>\n",
              "      <td>As the whole world watches in horror the image...</td>\n",
              "      <td>[{'text': 'Kyiv', 'indices': [73, 78]}, {'text...</td>\n",
              "      <td>en</td>\n",
              "      <td>NaN</td>\n",
              "      <td>0</td>\n",
              "      <td>2022-04-04 00:07:06.155602</td>\n",
              "    </tr>\n",
              "    <tr>\n",
              "      <th>1</th>\n",
              "      <td>1</td>\n",
              "      <td>50383631</td>\n",
              "      <td>sofia779933</td>\n",
              "      <td>ЛЮБЛЮ ЖИЗНЬ, ЮМОР И ВСЕ ПОЗИТИВНОЕ!</td>\n",
              "      <td>Москва, Россия</td>\n",
              "      <td>5000</td>\n",
              "      <td>1220</td>\n",
              "      <td>127329</td>\n",
              "      <td>2009-06-24 18:09:39.000000</td>\n",
              "      <td>1510769114389880844</td>\n",
              "      <td>2022-04-04 00:00:00.000000</td>\n",
              "      <td>342</td>\n",
              "      <td>Exclusive footage of #Bucha after the liberati...</td>\n",
              "      <td>[{'text': 'Bucha', 'indices': [42, 48]}]</td>\n",
              "      <td>en</td>\n",
              "      <td>NaN</td>\n",
              "      <td>0</td>\n",
              "      <td>2022-04-04 00:07:06.121124</td>\n",
              "    </tr>\n",
              "    <tr>\n",
              "      <th>2</th>\n",
              "      <td>2</td>\n",
              "      <td>152930351</td>\n",
              "      <td>AnonGhostt</td>\n",
              "      <td>Secret for Public</td>\n",
              "      <td>UK</td>\n",
              "      <td>7</td>\n",
              "      <td>5033</td>\n",
              "      <td>376522</td>\n",
              "      <td>2010-06-07 07:02:46.000000</td>\n",
              "      <td>1510769114541084674</td>\n",
              "      <td>2022-04-04 00:00:00.000000</td>\n",
              "      <td>358</td>\n",
              "      <td>📢 The #ICC Office of the Prosecutor is investi...</td>\n",
              "      <td>[{'text': 'ICC', 'indices': [25, 29]}, {'text'...</td>\n",
              "      <td>en</td>\n",
              "      <td>NaN</td>\n",
              "      <td>0</td>\n",
              "      <td>2022-04-04 00:07:06.071706</td>\n",
              "    </tr>\n",
              "    <tr>\n",
              "      <th>3</th>\n",
              "      <td>3</td>\n",
              "      <td>1250755269644222464</td>\n",
              "      <td>15minutosUSA</td>\n",
              "      <td>Descubre lo que pasa en tu país y en el mundo ...</td>\n",
              "      <td>Miami, Florida</td>\n",
              "      <td>523</td>\n",
              "      <td>3876</td>\n",
              "      <td>33616</td>\n",
              "      <td>2020-04-16 11:58:25.000000</td>\n",
              "      <td>1510769114582724608</td>\n",
              "      <td>2022-04-04 00:00:00.000000</td>\n",
              "      <td>0</td>\n",
              "      <td>#Mundo: Conmoción mundial por la masacre de #B...</td>\n",
              "      <td>[{'text': 'Mundo', 'indices': [0, 6]}, {'text'...</td>\n",
              "      <td>es</td>\n",
              "      <td>NaN</td>\n",
              "      <td>0</td>\n",
              "      <td>2022-04-04 00:07:06.055175</td>\n",
              "    </tr>\n",
              "    <tr>\n",
              "      <th>4</th>\n",
              "      <td>4</td>\n",
              "      <td>2288308578</td>\n",
              "      <td>EuromaidanPR</td>\n",
              "      <td>#1 Independent Citizen Media about #Ukraine | ...</td>\n",
              "      <td>Ukraine</td>\n",
              "      <td>3592</td>\n",
              "      <td>87638</td>\n",
              "      <td>76529</td>\n",
              "      <td>2014-01-12 15:28:39.000000</td>\n",
              "      <td>1510769115627204612</td>\n",
              "      <td>2022-04-04 00:00:00.000000</td>\n",
              "      <td>7</td>\n",
              "      <td>As the whole world watches in horror the image...</td>\n",
              "      <td>[{'text': 'Kyiv', 'indices': [53, 58]}, {'text...</td>\n",
              "      <td>en</td>\n",
              "      <td>NaN</td>\n",
              "      <td>16</td>\n",
              "      <td>2022-04-04 00:07:06.033660</td>\n",
              "    </tr>\n",
              "  </tbody>\n",
              "</table>\n",
              "</div>\n",
              "      <button class=\"colab-df-convert\" onclick=\"convertToInteractive('df-4caa3275-427b-4fd3-9d28-15b78f83ffe6')\"\n",
              "              title=\"Convert this dataframe to an interactive table.\"\n",
              "              style=\"display:none;\">\n",
              "        \n",
              "  <svg xmlns=\"http://www.w3.org/2000/svg\" height=\"24px\"viewBox=\"0 0 24 24\"\n",
              "       width=\"24px\">\n",
              "    <path d=\"M0 0h24v24H0V0z\" fill=\"none\"/>\n",
              "    <path d=\"M18.56 5.44l.94 2.06.94-2.06 2.06-.94-2.06-.94-.94-2.06-.94 2.06-2.06.94zm-11 1L8.5 8.5l.94-2.06 2.06-.94-2.06-.94L8.5 2.5l-.94 2.06-2.06.94zm10 10l.94 2.06.94-2.06 2.06-.94-2.06-.94-.94-2.06-.94 2.06-2.06.94z\"/><path d=\"M17.41 7.96l-1.37-1.37c-.4-.4-.92-.59-1.43-.59-.52 0-1.04.2-1.43.59L10.3 9.45l-7.72 7.72c-.78.78-.78 2.05 0 2.83L4 21.41c.39.39.9.59 1.41.59.51 0 1.02-.2 1.41-.59l7.78-7.78 2.81-2.81c.8-.78.8-2.07 0-2.86zM5.41 20L4 18.59l7.72-7.72 1.47 1.35L5.41 20z\"/>\n",
              "  </svg>\n",
              "      </button>\n",
              "      \n",
              "  <style>\n",
              "    .colab-df-container {\n",
              "      display:flex;\n",
              "      flex-wrap:wrap;\n",
              "      gap: 12px;\n",
              "    }\n",
              "\n",
              "    .colab-df-convert {\n",
              "      background-color: #E8F0FE;\n",
              "      border: none;\n",
              "      border-radius: 50%;\n",
              "      cursor: pointer;\n",
              "      display: none;\n",
              "      fill: #1967D2;\n",
              "      height: 32px;\n",
              "      padding: 0 0 0 0;\n",
              "      width: 32px;\n",
              "    }\n",
              "\n",
              "    .colab-df-convert:hover {\n",
              "      background-color: #E2EBFA;\n",
              "      box-shadow: 0px 1px 2px rgba(60, 64, 67, 0.3), 0px 1px 3px 1px rgba(60, 64, 67, 0.15);\n",
              "      fill: #174EA6;\n",
              "    }\n",
              "\n",
              "    [theme=dark] .colab-df-convert {\n",
              "      background-color: #3B4455;\n",
              "      fill: #D2E3FC;\n",
              "    }\n",
              "\n",
              "    [theme=dark] .colab-df-convert:hover {\n",
              "      background-color: #434B5C;\n",
              "      box-shadow: 0px 1px 3px 1px rgba(0, 0, 0, 0.15);\n",
              "      filter: drop-shadow(0px 1px 2px rgba(0, 0, 0, 0.3));\n",
              "      fill: #FFFFFF;\n",
              "    }\n",
              "  </style>\n",
              "\n",
              "      <script>\n",
              "        const buttonEl =\n",
              "          document.querySelector('#df-4caa3275-427b-4fd3-9d28-15b78f83ffe6 button.colab-df-convert');\n",
              "        buttonEl.style.display =\n",
              "          google.colab.kernel.accessAllowed ? 'block' : 'none';\n",
              "\n",
              "        async function convertToInteractive(key) {\n",
              "          const element = document.querySelector('#df-4caa3275-427b-4fd3-9d28-15b78f83ffe6');\n",
              "          const dataTable =\n",
              "            await google.colab.kernel.invokeFunction('convertToInteractive',\n",
              "                                                     [key], {});\n",
              "          if (!dataTable) return;\n",
              "\n",
              "          const docLinkHtml = 'Like what you see? Visit the ' +\n",
              "            '<a target=\"_blank\" href=https://colab.research.google.com/notebooks/data_table.ipynb>data table notebook</a>'\n",
              "            + ' to learn more about interactive tables.';\n",
              "          element.innerHTML = '';\n",
              "          dataTable['output_type'] = 'display_data';\n",
              "          await google.colab.output.renderOutput(dataTable, element);\n",
              "          const docLink = document.createElement('div');\n",
              "          docLink.innerHTML = docLinkHtml;\n",
              "          element.appendChild(docLink);\n",
              "        }\n",
              "      </script>\n",
              "    </div>\n",
              "  </div>\n",
              "  "
            ]
          },
          "metadata": {},
          "execution_count": 6
        }
      ]
    },
    {
      "cell_type": "code",
      "source": [
        "print(df.shape)\n",
        "print(len(set(df.language)))"
      ],
      "metadata": {
        "colab": {
          "base_uri": "https://localhost:8080/"
        },
        "id": "gWKJFCdjzlHn",
        "outputId": "8b88b549-a46b-48ec-bb69-f4973eb51333"
      },
      "execution_count": 7,
      "outputs": [
        {
          "output_type": "stream",
          "name": "stdout",
          "text": [
            "(430421, 18)\n",
            "61\n"
          ]
        }
      ]
    },
    {
      "cell_type": "code",
      "source": [
        "#from https://gist.github.com/n1n9-jp/5857d7725f3b14cbc8ec3e878e4307ce\n",
        "\n",
        "def remove_emojis(data):\n",
        "    emoj = re.compile(\"[\"\n",
        "        u\"\\U00002700-\\U000027BF\"  # Dingbats\n",
        "        u\"\\U0001F600-\\U0001F64F\"  # Emoticons\n",
        "        u\"\\U00002600-\\U000026FF\"  # Miscellaneous Symbols\n",
        "        u\"\\U0001F300-\\U0001F5FF\"  # Miscellaneous Symbols And Pictographs\n",
        "        u\"\\U0001F900-\\U0001F9FF\"  # Supplemental Symbols and Pictographs\n",
        "        u\"\\U0001FA70-\\U0001FAFF\"  # Symbols and Pictographs Extended-A\n",
        "        u\"\\U0001F680-\\U0001F6FF\"  # Transport and Map Symbols\n",
        "                      \"]+\", re.UNICODE)\n",
        "    return re.sub(emoj, '', data)"
      ],
      "metadata": {
        "id": "XF1ZcI-eOFHF"
      },
      "execution_count": 8,
      "outputs": []
    },
    {
      "cell_type": "code",
      "source": [
        "def cleaner(text):\n",
        "  #remove @nickname, hashtags, links, emojis\n",
        "  text = re.sub(\"(@[A-Za-z0-9]+)\",\"\",text)\n",
        "  text = re.sub(\"#\",\"\",text)\n",
        "  text = re.sub(r'http\\S+', '', text)\n",
        "  text = re.sub('\\w+:\\/\\/\\S+', '', text)\n",
        "  text = remove_emojis(text)\n",
        "  text = text.lower()\n",
        "  return text"
      ],
      "metadata": {
        "id": "IqBNK72zKh6c"
      },
      "execution_count": 9,
      "outputs": []
    },
    {
      "cell_type": "code",
      "source": [
        "#select a portion of the english speaking tweets only\n",
        "num_docs = 10000\n",
        "\n",
        "text = df[df.language == \"en\"]\n",
        "\n",
        "#select the textual column, the only one of interest\n",
        "text = text.text[:num_docs]\n",
        "text = text.map(lambda x: cleaner(x))\n",
        "text.head()"
      ],
      "metadata": {
        "id": "muE38pN-mjGA",
        "colab": {
          "base_uri": "https://localhost:8080/"
        },
        "outputId": "4835f815-f793-41bb-f5e9-7b746b4d8d73"
      },
      "execution_count": 10,
      "outputs": [
        {
          "output_type": "execute_result",
          "data": {
            "text/plain": [
              "0    as the whole world watches in horror the image...\n",
              "1    exclusive footage of bucha after the liberatio...\n",
              "2     the icc office of the prosecutor is investiga...\n",
              "4    as the whole world watches in horror the image...\n",
              "5    the anonymous collective has sent 7.000.000 an...\n",
              "Name: text, dtype: object"
            ]
          },
          "metadata": {},
          "execution_count": 10
        }
      ]
    },
    {
      "cell_type": "markdown",
      "source": [
        "# Tokenization"
      ],
      "metadata": {
        "id": "Szd3dHQTWdtV"
      }
    },
    {
      "cell_type": "code",
      "source": [
        "#create a function to split into 5-grams\n",
        "K = 5\n",
        "\n",
        "def kgram(sentence,k):\n",
        "  ngr = set(ngrams(sentence, k))\n",
        "  return ngr"
      ],
      "metadata": {
        "id": "xw3EgoI8mujo"
      },
      "execution_count": 11,
      "outputs": []
    },
    {
      "cell_type": "markdown",
      "source": [
        "# Min-hashing"
      ],
      "metadata": {
        "id": "i3_Qru4cWo7l"
      }
    },
    {
      "cell_type": "markdown",
      "source": [
        "### Characteristic matrix"
      ],
      "metadata": {
        "id": "MzcWxogIW0MG"
      }
    },
    {
      "cell_type": "code",
      "source": [
        "#characteristic matrix column\n",
        "#if a shingle is present in the tweet, the cell is equal to 1, 0 otherwise\n",
        "def col_cm(gram, rows):\n",
        "  col = np.zeros((len(rows),), dtype=int)\n",
        "  for shingle in gram:\n",
        "    col[rows.index(shingle)] = 1\n",
        "\n",
        "  return col"
      ],
      "metadata": {
        "id": "QPTbu2PwqG8M"
      },
      "execution_count": 12,
      "outputs": []
    },
    {
      "cell_type": "code",
      "source": [
        "def char_matrix(rdd):\n",
        "\n",
        "  #trasform tweets into sets of k-grams\n",
        "  rdd = rdd.map(lambda gram: kgram(gram,K))\n",
        "\n",
        "  #create the rows of the matrix, i.e. the set of all kgrams\n",
        "  rows = rdd.flatMap(lambda gram: gram).distinct().collect()\n",
        "\n",
        "  #create the columns of the characteristic matrix\n",
        "  columns = rdd.map(lambda gram: col_cm(gram, rows))\n",
        "\n",
        "  return len(rows),columns"
      ],
      "metadata": {
        "id": "v2mQvT0zkwrK"
      },
      "execution_count": 13,
      "outputs": []
    },
    {
      "cell_type": "markdown",
      "source": [
        "### Signature matrix"
      ],
      "metadata": {
        "id": "kRygu0oznqBY"
      }
    },
    {
      "cell_type": "code",
      "source": [
        "#create the sequence of new indexes to reorder the characteristic matrix\n",
        "def shuffler(len_r, rnd):\n",
        "  shuffler = np.array([(i + rnd) * rnd % len_r for i in range(len_r)])\n",
        "  return shuffler"
      ],
      "metadata": {
        "id": "1wZbH-ozGYQe"
      },
      "execution_count": 15,
      "outputs": []
    },
    {
      "cell_type": "code",
      "source": [
        "#create a matrix of new sequences: each one works as hash function\n",
        "def hash_matrix(len_r):\n",
        "  hash_matrix = []\n",
        "  rnd_lst = random.sample(range(0, len_r), H)\n",
        "  for rnd in rnd_lst:\n",
        "    hash_matrix.append(shuffler(len_r,rnd))\n",
        "  return hash_matrix"
      ],
      "metadata": {
        "id": "GSExD0uDf-TY"
      },
      "execution_count": 16,
      "outputs": []
    },
    {
      "cell_type": "code",
      "source": [
        "#for every text and every hash function, generate the signature\n",
        "def hash_column(col,len_r,hash_matrix):\n",
        "  sig_col = np.full(H,len_r)\n",
        "  for i in range(len_r):\n",
        "    if(col[i] == 1):\n",
        "      for j in range(H):\n",
        "        if(sig_col[j] > hash_matrix[j][i]):\n",
        "          sig_col[j] = hash_matrix[j][i]\n",
        "  return sig_col"
      ],
      "metadata": {
        "id": "Q1h6Reoum1O9"
      },
      "execution_count": 17,
      "outputs": []
    },
    {
      "cell_type": "code",
      "source": [
        "#wrap up the signature of each text\n",
        "def sig_matrix(hash_matrix,len_r,columns):\n",
        "\n",
        "  columns = columns.map(lambda x : hash_column(x,len_r,hash_matrix))\n",
        "  return columns"
      ],
      "metadata": {
        "id": "fYbscEsNRiLE"
      },
      "execution_count": 18,
      "outputs": []
    },
    {
      "cell_type": "code",
      "source": [
        "#number of hash functions\n",
        "global H\n",
        "H = 100"
      ],
      "metadata": {
        "id": "PGO7DNCgnluw"
      },
      "execution_count": 19,
      "outputs": []
    },
    {
      "cell_type": "code",
      "source": [
        "#Eventually, start the process by parallelizing the tweets\n",
        "rdd = sc.parallelize(text).cache()"
      ],
      "metadata": {
        "id": "qEf_G067YyhU"
      },
      "execution_count": 20,
      "outputs": []
    },
    {
      "cell_type": "code",
      "source": [
        "len_r,columns = char_matrix(rdd)\n",
        "sig_matrix = sig_matrix(hash_matrix(len_r),len_r,columns)"
      ],
      "metadata": {
        "id": "b1ha5g3p7iN2"
      },
      "execution_count": 21,
      "outputs": []
    },
    {
      "cell_type": "markdown",
      "source": [
        "# LSH and final results"
      ],
      "metadata": {
        "id": "N2UxgGW6CaTc"
      }
    },
    {
      "cell_type": "code",
      "source": [
        "#define the number of rows per band\n",
        "global r\n",
        "r = 5\n",
        "global b\n",
        "b = H/r\n",
        "b"
      ],
      "metadata": {
        "id": "h8N5nATBCfOz",
        "colab": {
          "base_uri": "https://localhost:8080/"
        },
        "outputId": "3522ca9f-c46a-48d7-b6e0-b191d4cadfe4"
      },
      "execution_count": 23,
      "outputs": [
        {
          "output_type": "execute_result",
          "data": {
            "text/plain": [
              "20.0"
            ]
          },
          "metadata": {},
          "execution_count": 23
        }
      ]
    },
    {
      "cell_type": "markdown",
      "source": [
        "#### Choice of the threshold"
      ],
      "metadata": {
        "id": "zNNAvLOFMr1f"
      }
    },
    {
      "cell_type": "code",
      "source": [
        "s = pd.Series([0.01 * x for x in range(100)], name='s')\n",
        "p = pd.Series([ (1 - (1 - sx**r)**b) for sx in s], name='p')\n",
        "sdf = pd.merge(s,p, right_index = True, left_index = True)\n",
        "sdf[::10]"
      ],
      "metadata": {
        "colab": {
          "base_uri": "https://localhost:8080/",
          "height": 0
        },
        "id": "6154VZyAFUAu",
        "outputId": "897654d7-aeda-4455-c10c-7bd6da1c3580"
      },
      "execution_count": 24,
      "outputs": [
        {
          "output_type": "execute_result",
          "data": {
            "text/plain": [
              "      s         p\n",
              "0   0.0  0.000000\n",
              "10  0.1  0.000200\n",
              "20  0.2  0.006381\n",
              "30  0.3  0.047494\n",
              "40  0.4  0.186050\n",
              "50  0.5  0.470051\n",
              "60  0.6  0.801902\n",
              "70  0.7  0.974781\n",
              "80  0.8  0.999644\n",
              "90  0.9  1.000000"
            ],
            "text/html": [
              "\n",
              "  <div id=\"df-4826aa27-de11-4c7d-9b58-e1992bb75987\">\n",
              "    <div class=\"colab-df-container\">\n",
              "      <div>\n",
              "<style scoped>\n",
              "    .dataframe tbody tr th:only-of-type {\n",
              "        vertical-align: middle;\n",
              "    }\n",
              "\n",
              "    .dataframe tbody tr th {\n",
              "        vertical-align: top;\n",
              "    }\n",
              "\n",
              "    .dataframe thead th {\n",
              "        text-align: right;\n",
              "    }\n",
              "</style>\n",
              "<table border=\"1\" class=\"dataframe\">\n",
              "  <thead>\n",
              "    <tr style=\"text-align: right;\">\n",
              "      <th></th>\n",
              "      <th>s</th>\n",
              "      <th>p</th>\n",
              "    </tr>\n",
              "  </thead>\n",
              "  <tbody>\n",
              "    <tr>\n",
              "      <th>0</th>\n",
              "      <td>0.0</td>\n",
              "      <td>0.000000</td>\n",
              "    </tr>\n",
              "    <tr>\n",
              "      <th>10</th>\n",
              "      <td>0.1</td>\n",
              "      <td>0.000200</td>\n",
              "    </tr>\n",
              "    <tr>\n",
              "      <th>20</th>\n",
              "      <td>0.2</td>\n",
              "      <td>0.006381</td>\n",
              "    </tr>\n",
              "    <tr>\n",
              "      <th>30</th>\n",
              "      <td>0.3</td>\n",
              "      <td>0.047494</td>\n",
              "    </tr>\n",
              "    <tr>\n",
              "      <th>40</th>\n",
              "      <td>0.4</td>\n",
              "      <td>0.186050</td>\n",
              "    </tr>\n",
              "    <tr>\n",
              "      <th>50</th>\n",
              "      <td>0.5</td>\n",
              "      <td>0.470051</td>\n",
              "    </tr>\n",
              "    <tr>\n",
              "      <th>60</th>\n",
              "      <td>0.6</td>\n",
              "      <td>0.801902</td>\n",
              "    </tr>\n",
              "    <tr>\n",
              "      <th>70</th>\n",
              "      <td>0.7</td>\n",
              "      <td>0.974781</td>\n",
              "    </tr>\n",
              "    <tr>\n",
              "      <th>80</th>\n",
              "      <td>0.8</td>\n",
              "      <td>0.999644</td>\n",
              "    </tr>\n",
              "    <tr>\n",
              "      <th>90</th>\n",
              "      <td>0.9</td>\n",
              "      <td>1.000000</td>\n",
              "    </tr>\n",
              "  </tbody>\n",
              "</table>\n",
              "</div>\n",
              "      <button class=\"colab-df-convert\" onclick=\"convertToInteractive('df-4826aa27-de11-4c7d-9b58-e1992bb75987')\"\n",
              "              title=\"Convert this dataframe to an interactive table.\"\n",
              "              style=\"display:none;\">\n",
              "        \n",
              "  <svg xmlns=\"http://www.w3.org/2000/svg\" height=\"24px\"viewBox=\"0 0 24 24\"\n",
              "       width=\"24px\">\n",
              "    <path d=\"M0 0h24v24H0V0z\" fill=\"none\"/>\n",
              "    <path d=\"M18.56 5.44l.94 2.06.94-2.06 2.06-.94-2.06-.94-.94-2.06-.94 2.06-2.06.94zm-11 1L8.5 8.5l.94-2.06 2.06-.94-2.06-.94L8.5 2.5l-.94 2.06-2.06.94zm10 10l.94 2.06.94-2.06 2.06-.94-2.06-.94-.94-2.06-.94 2.06-2.06.94z\"/><path d=\"M17.41 7.96l-1.37-1.37c-.4-.4-.92-.59-1.43-.59-.52 0-1.04.2-1.43.59L10.3 9.45l-7.72 7.72c-.78.78-.78 2.05 0 2.83L4 21.41c.39.39.9.59 1.41.59.51 0 1.02-.2 1.41-.59l7.78-7.78 2.81-2.81c.8-.78.8-2.07 0-2.86zM5.41 20L4 18.59l7.72-7.72 1.47 1.35L5.41 20z\"/>\n",
              "  </svg>\n",
              "      </button>\n",
              "      \n",
              "  <style>\n",
              "    .colab-df-container {\n",
              "      display:flex;\n",
              "      flex-wrap:wrap;\n",
              "      gap: 12px;\n",
              "    }\n",
              "\n",
              "    .colab-df-convert {\n",
              "      background-color: #E8F0FE;\n",
              "      border: none;\n",
              "      border-radius: 50%;\n",
              "      cursor: pointer;\n",
              "      display: none;\n",
              "      fill: #1967D2;\n",
              "      height: 32px;\n",
              "      padding: 0 0 0 0;\n",
              "      width: 32px;\n",
              "    }\n",
              "\n",
              "    .colab-df-convert:hover {\n",
              "      background-color: #E2EBFA;\n",
              "      box-shadow: 0px 1px 2px rgba(60, 64, 67, 0.3), 0px 1px 3px 1px rgba(60, 64, 67, 0.15);\n",
              "      fill: #174EA6;\n",
              "    }\n",
              "\n",
              "    [theme=dark] .colab-df-convert {\n",
              "      background-color: #3B4455;\n",
              "      fill: #D2E3FC;\n",
              "    }\n",
              "\n",
              "    [theme=dark] .colab-df-convert:hover {\n",
              "      background-color: #434B5C;\n",
              "      box-shadow: 0px 1px 3px 1px rgba(0, 0, 0, 0.15);\n",
              "      filter: drop-shadow(0px 1px 2px rgba(0, 0, 0, 0.3));\n",
              "      fill: #FFFFFF;\n",
              "    }\n",
              "  </style>\n",
              "\n",
              "      <script>\n",
              "        const buttonEl =\n",
              "          document.querySelector('#df-4826aa27-de11-4c7d-9b58-e1992bb75987 button.colab-df-convert');\n",
              "        buttonEl.style.display =\n",
              "          google.colab.kernel.accessAllowed ? 'block' : 'none';\n",
              "\n",
              "        async function convertToInteractive(key) {\n",
              "          const element = document.querySelector('#df-4826aa27-de11-4c7d-9b58-e1992bb75987');\n",
              "          const dataTable =\n",
              "            await google.colab.kernel.invokeFunction('convertToInteractive',\n",
              "                                                     [key], {});\n",
              "          if (!dataTable) return;\n",
              "\n",
              "          const docLinkHtml = 'Like what you see? Visit the ' +\n",
              "            '<a target=\"_blank\" href=https://colab.research.google.com/notebooks/data_table.ipynb>data table notebook</a>'\n",
              "            + ' to learn more about interactive tables.';\n",
              "          element.innerHTML = '';\n",
              "          dataTable['output_type'] = 'display_data';\n",
              "          await google.colab.output.renderOutput(dataTable, element);\n",
              "          const docLink = document.createElement('div');\n",
              "          docLink.innerHTML = docLinkHtml;\n",
              "          element.appendChild(docLink);\n",
              "        }\n",
              "      </script>\n",
              "    </div>\n",
              "  </div>\n",
              "  "
            ]
          },
          "metadata": {},
          "execution_count": 24
        }
      ]
    },
    {
      "cell_type": "code",
      "source": [
        "plt.plot(s,p)\n",
        "plt.ylabel(\"p\", rotation=0)\n",
        "plt.xlabel(\"s\")"
      ],
      "metadata": {
        "id": "jk-xfRrWGnM9",
        "colab": {
          "base_uri": "https://localhost:8080/",
          "height": 0
        },
        "outputId": "a485e67a-eee8-45a2-e1c5-739238fdbafc"
      },
      "execution_count": 25,
      "outputs": [
        {
          "output_type": "execute_result",
          "data": {
            "text/plain": [
              "Text(0.5, 0, 's')"
            ]
          },
          "metadata": {},
          "execution_count": 25
        },
        {
          "output_type": "display_data",
          "data": {
            "text/plain": [
              "<Figure size 432x288 with 1 Axes>"
            ],
            "image/png": "[encoded data removed]"
          },
          "metadata": {
            "needs_background": "light"
          }
        }
      ]
    },
    {
      "cell_type": "code",
      "source": [
        "global t\n",
        "t = round((1/b)**(1/r),2)\n",
        "t"
      ],
      "metadata": {
        "id": "zVx0YNwmMngy",
        "colab": {
          "base_uri": "https://localhost:8080/"
        },
        "outputId": "ee1c7a77-f971-4458-e1b7-99861079ffb5"
      },
      "execution_count": 26,
      "outputs": [
        {
          "output_type": "execute_result",
          "data": {
            "text/plain": [
              "0.55"
            ]
          },
          "metadata": {},
          "execution_count": 26
        }
      ]
    },
    {
      "cell_type": "markdown",
      "source": [
        "#### Comparison"
      ],
      "metadata": {
        "id": "16k_f7g3m6Iv"
      }
    },
    {
      "cell_type": "code",
      "source": [
        "#group by splitting every hashed document into b bands\n",
        "def hash_array(x):\n",
        "  return abs(hash(x.tostring())).to_bytes(8,\"big\").hex()"
      ],
      "metadata": {
        "id": "wLZ9UiH-ZQWB"
      },
      "execution_count": 27,
      "outputs": []
    },
    {
      "cell_type": "code",
      "source": [
        "#Jaccard similarity between two documents\n",
        "def j_sim(l1,l2,i,j,n_parts):\n",
        "  jacc = sum([1 for ii, jj in zip(l1, l2) if ii == jj and ii != 0])/n_parts\n",
        "  if jacc != 0:\n",
        "    return (i,j)"
      ],
      "metadata": {
        "id": "I2qG65MF-eJ4"
      },
      "execution_count": 28,
      "outputs": []
    },
    {
      "cell_type": "code",
      "source": [
        "#the final wrapper takes the lsh-hashed documents and compares them\n",
        "def results(res):\n",
        "  global ls_sim\n",
        "  global jc\n",
        "  len_res = len(res)\n",
        "  #list of candidates\n",
        "  jc = [(j_sim(res[i],res[j],i,j,b)) for i in range(len_res-1) for j in range(i+1,len_res)]\n",
        "  jc = [i for i in jc if i is not None]\n",
        "\n",
        "  #get the list of items involved in similarities\n",
        "  ls_sim = list(itertools.chain(*jc))\n",
        "  ls_sim = set(ls_sim)\n",
        "\n",
        "  #the percentage of similar couples is calculated by dividing the number of similar couples by the number of total couples\n",
        "  sim_perc = len(jc)/binom(num_docs, 2)*100\n",
        "  sim_perc = round(sim_perc, 3)\n",
        "  print(f'The percentage of similar items is: {sim_perc}%')"
      ],
      "metadata": {
        "id": "VkpKn7PG3QXN"
      },
      "execution_count": 29,
      "outputs": []
    },
    {
      "cell_type": "code",
      "source": [
        "#hash every column to a bucket (an integer) in each band\n",
        "#takes about 30 minutes\n",
        "res = sig_matrix.map(lambda x: [hash_array(arr) for arr in (np.array_split(x, b))]).collect()"
      ],
      "metadata": {
        "id": "WGAm6tVIIGJN"
      },
      "execution_count": 30,
      "outputs": []
    },
    {
      "cell_type": "code",
      "source": [
        "results(res)"
      ],
      "metadata": {
        "id": "mKNx5IzPoxIY",
        "colab": {
          "base_uri": "https://localhost:8080/"
        },
        "outputId": "32186d7f-8e7f-47a2-f03a-df3228d731f4"
      },
      "execution_count": 31,
      "outputs": [
        {
          "output_type": "stream",
          "name": "stdout",
          "text": [
            "The percentage of similar items is: 0.712%\n"
          ]
        }
      ]
    },
    {
      "cell_type": "markdown",
      "source": [
        "#### Optional: check similarity of each couple at the k-gram level\n",
        "IMPORTANT: This section can only be used with smaller datasets"
      ],
      "metadata": {
        "id": "FOuNoz9mZRyT"
      }
    },
    {
      "cell_type": "code",
      "source": [
        "'''def j_sim2(l1,l2,i,j,n_parts):\n",
        "  jacc = sum([1 for ii, jj in zip(l1, l2) if ii == jj and ii != 0])/(n_parts - sum([1 for ii, jj in zip(l1, l2) if ii == 0 and jj == 0]))\n",
        "  if jacc >= t:\n",
        "    return (i,j)'''"
      ],
      "metadata": {
        "id": "d43lEtO-ZNsy"
      },
      "execution_count": 32,
      "outputs": []
    },
    {
      "cell_type": "code",
      "source": [
        "'''def final_results(res):\n",
        "  global jc\n",
        "\n",
        "  res = [(sub[1], sub[0]) for sub in res]\n",
        "  res = dict(res)\n",
        "\n",
        "  jc2 = [(j_sim2(res[jc_tup[0]],res[jc_tup[0]],jc_tup[0],jc_tup[1],len_r)) for jc_tup in jc]\n",
        "\n",
        "  sim_perc = len(jc2)/binom(num_docs, 2)*100\n",
        "  sim_perc = round(sim_perc, 3)\n",
        "  print(f'The percentage of similar items is: {sim_perc}%')'''"
      ],
      "metadata": {
        "id": "I5VCBPfwZKby"
      },
      "execution_count": 33,
      "outputs": []
    },
    {
      "cell_type": "code",
      "source": [
        "#create indexes\n",
        "'''res1 = columns.zipWithIndex()'''"
      ],
      "metadata": {
        "id": "tdl3suIZyKPK"
      },
      "execution_count": 22,
      "outputs": []
    },
    {
      "cell_type": "code",
      "source": [
        "'''res1 = res1.filter(lambda x : x[1] in ls_sim).collect()"
      ],
      "metadata": {
        "id": "Sn8ZzW1jeaFy"
      },
      "execution_count": 39,
      "outputs": []
    },
    {
      "cell_type": "code",
      "source": [
        "'''final_results(res1)"
      ],
      "metadata": {
        "id": "qMGQMsp9gKYM"
      },
      "execution_count": null,
      "outputs": []
    }
  ]
}